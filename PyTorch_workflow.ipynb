{
  "nbformat": 4,
  "nbformat_minor": 0,
  "metadata": {
    "colab": {
      "provenance": [],
      "authorship_tag": "ABX9TyNS/5nEu8BHm3TfU/Yv4htg",
      "include_colab_link": true
    },
    "kernelspec": {
      "name": "python3",
      "display_name": "Python 3"
    },
    "language_info": {
      "name": "python"
    }
  },
  "cells": [
    {
      "cell_type": "markdown",
      "metadata": {
        "id": "view-in-github",
        "colab_type": "text"
      },
      "source": [
        "<a href=\"https://colab.research.google.com/github/abirahmed56/PyTorch/blob/main/PyTorch_workflow.ipynb\" target=\"_parent\"><img src=\"https://colab.research.google.com/assets/colab-badge.svg\" alt=\"Open In Colab\"/></a>"
      ]
    },
    {
      "cell_type": "markdown",
      "source": [
        "# PyTorch Workflow\n",
        "Flow of this notebook will be\n",
        "* data (prepare and load)\n",
        "* build_model\n",
        "* fitting the model to data(training)\n",
        "* makeing prediction and evaluate the model\n",
        "* saving and loading the model\n",
        "* combine all of above and make a whole pipeline\n"
      ],
      "metadata": {
        "id": "AWgvrZJl5auZ"
      }
    },
    {
      "cell_type": "markdown",
      "source": [
        "Let's start with importing some necessary libraries"
      ],
      "metadata": {
        "id": "k8675zSZ56wC"
      }
    },
    {
      "cell_type": "code",
      "source": [
        "import torch\n",
        "from torch import nn\n",
        "import matplotlib.pyplot as plt"
      ],
      "metadata": {
        "id": "JFGfId9q5iRU"
      },
      "execution_count": 13,
      "outputs": []
    },
    {
      "cell_type": "markdown",
      "source": [
        "## Data (Preparing and Loading)\n",
        "Data can be almost anything in machine learning model...\n",
        "* Audio\n",
        "* Video\n",
        "* Text\n",
        "* Image\n",
        "* Number\n",
        "\n",
        "But for those machinelearning model, it only takes numbers as input. So, at first we have to preprocess our data and convert them into numbers. In our case, we have to convert them into tensor in pytorch. Then the model will learn pattern in those numerical data. Based on learning they will produce desired result for new data in numerical form and further we have to convert them into raw data form in order to make suitable for human.\n",
        "\n",
        "Let's make some dummy data (tensor) and for simplicity, i will use simple linear regression as a ml model in this notebook."
      ],
      "metadata": {
        "id": "LF4KwaAZ5h-k"
      }
    },
    {
      "cell_type": "code",
      "source": [
        "# Create dummy but suitable data for our linear regression model\n",
        "weight = 0.7\n",
        "bias = 0.3\n",
        "\n",
        "start = 0\n",
        "end = 1\n",
        "step = 0.02\n",
        "X = torch.arange(start, end, step).unsqueeze(dim=1)\n",
        "y = weight * X + bias"
      ],
      "metadata": {
        "id": "9hDyMiMc9iMn"
      },
      "execution_count": 14,
      "outputs": []
    },
    {
      "cell_type": "code",
      "source": [
        "X[:10], y[:10]"
      ],
      "metadata": {
        "id": "K944o93t-tYj",
        "outputId": "e82da953-b91e-4d8a-b15f-b65c6bed3a00",
        "colab": {
          "base_uri": "https://localhost:8080/"
        }
      },
      "execution_count": 17,
      "outputs": [
        {
          "output_type": "execute_result",
          "data": {
            "text/plain": [
              "(tensor([[0.0000],\n",
              "         [0.0200],\n",
              "         [0.0400],\n",
              "         [0.0600],\n",
              "         [0.0800],\n",
              "         [0.1000],\n",
              "         [0.1200],\n",
              "         [0.1400],\n",
              "         [0.1600],\n",
              "         [0.1800]]),\n",
              " tensor([[0.3000],\n",
              "         [0.3140],\n",
              "         [0.3280],\n",
              "         [0.3420],\n",
              "         [0.3560],\n",
              "         [0.3700],\n",
              "         [0.3840],\n",
              "         [0.3980],\n",
              "         [0.4120],\n",
              "         [0.4260]]))"
            ]
          },
          "metadata": {},
          "execution_count": 17
        }
      ]
    },
    {
      "cell_type": "code",
      "source": [
        "len(X), len(y)"
      ],
      "metadata": {
        "id": "_I32smG--jm7",
        "outputId": "ccfd2690-93b0-4058-dd92-c011e2f8efab",
        "colab": {
          "base_uri": "https://localhost:8080/"
        }
      },
      "execution_count": 18,
      "outputs": [
        {
          "output_type": "execute_result",
          "data": {
            "text/plain": [
              "(50, 50)"
            ]
          },
          "metadata": {},
          "execution_count": 18
        }
      ]
    },
    {
      "cell_type": "markdown",
      "source": [
        "### Splitting data in train and test\n",
        "We have to split out data in train and text. For simplicity i don't include validation data but i will do so in very soon.\n",
        "\n",
        "* train data - use for finding the pattern in our data\n",
        "* validation data - use for avoiding over fitting or under fitting\n",
        "* test data - use for evaluate our model for new data\n",
        "\n",
        "Let's split our dummy data"
      ],
      "metadata": {
        "id": "6mZwGprg-6Cw"
      }
    },
    {
      "cell_type": "code",
      "source": [],
      "metadata": {
        "id": "_woEQ-J7-uVl"
      },
      "execution_count": null,
      "outputs": []
    }
  ]
}