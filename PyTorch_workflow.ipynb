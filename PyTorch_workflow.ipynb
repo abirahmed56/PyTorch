{
  "nbformat": 4,
  "nbformat_minor": 0,
  "metadata": {
    "colab": {
      "provenance": [],
      "authorship_tag": "ABX9TyNX81ysJ/RRFkKsAb067M2R",
      "include_colab_link": true
    },
    "kernelspec": {
      "name": "python3",
      "display_name": "Python 3"
    },
    "language_info": {
      "name": "python"
    }
  },
  "cells": [
    {
      "cell_type": "markdown",
      "metadata": {
        "id": "view-in-github",
        "colab_type": "text"
      },
      "source": [
        "<a href=\"https://colab.research.google.com/github/abirahmed56/PyTorch/blob/main/PyTorch_workflow.ipynb\" target=\"_parent\"><img src=\"https://colab.research.google.com/assets/colab-badge.svg\" alt=\"Open In Colab\"/></a>"
      ]
    },
    {
      "cell_type": "markdown",
      "source": [
        "# PyTorch Workflow\n",
        "Let's start with importing some necessary libraries"
      ],
      "metadata": {
        "id": "AWgvrZJl5auZ"
      }
    },
    {
      "cell_type": "code",
      "source": [
        "import torch\n",
        "from torch import nn\n",
        "import matplotlib.pyplot as plt"
      ],
      "metadata": {
        "id": "JFGfId9q5iRU"
      },
      "execution_count": 12,
      "outputs": []
    },
    {
      "cell_type": "markdown",
      "source": [
        "Flow of this notebook will be\n",
        "* data (prepare and load)\n",
        "* build_model\n",
        "* fitting the model to data(training)\n",
        "* makeing prediction and evaluate the model\n",
        "* saving and loading the model\n",
        "* combine all of above and make a whole pipeline"
      ],
      "metadata": {
        "id": "k8675zSZ56wC"
      }
    },
    {
      "cell_type": "code",
      "source": [],
      "metadata": {
        "id": "Da1dRO9j55bc"
      },
      "execution_count": null,
      "outputs": []
    },
    {
      "cell_type": "markdown",
      "source": [],
      "metadata": {
        "id": "LF4KwaAZ5h-k"
      }
    }
  ]
}